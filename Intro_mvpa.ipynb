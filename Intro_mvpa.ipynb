{
 "cells": [
  {
   "cell_type": "markdown",
   "metadata": {},
   "source": [
    "# Introduction to machine learning for M/EEG data\n",
    "\n",
    "- Why do mvpa?\n",
    "- Difference to traditional statistics?\n",
    "- What is unique for M/EEG data?"
   ]
  },
  {
   "cell_type": "markdown",
   "metadata": {},
   "source": [
    "## Linear regression example"
   ]
  },
  {
   "cell_type": "code",
   "execution_count": null,
   "metadata": {
    "collapsed": true
   },
   "outputs": [],
   "source": [
    "%matplotlib inline\n",
    "import numpy as np\n",
    "import matplotlib.pyplot as plt\n",
    "import pandas as pd\n",
    "plt.style.use(\"ggplot\")\n"
   ]
  },
  {
   "cell_type": "code",
   "execution_count": null,
   "metadata": {
    "collapsed": true
   },
   "outputs": [],
   "source": [
    "data = pd.read_csv('http://www-bcf.usc.edu/~gareth/ISL/Advertising.csv', index_col=0)\n",
    "data.head()\n",
    "\n"
   ]
  },
  {
   "cell_type": "code",
   "execution_count": null,
   "metadata": {
    "collapsed": true
   },
   "outputs": [],
   "source": [
    "# this is the standard import if you're using \"formula notation\" (similar to R)\n",
    "import statsmodels.formula.api as smf\n",
    "\n",
    "# create a fitted model in one line\n",
    "lm = smf.ols(formula='Sales ~ TV', data=data).fit()\n",
    "\n",
    "# print the coefficients\n",
    "lm.params\n",
    "\n"
   ]
  },
  {
   "cell_type": "code",
   "execution_count": null,
   "metadata": {
    "collapsed": true
   },
   "outputs": [],
   "source": [
    "# create a DataFrame with the minimum and maximum values of TV\n",
    "X_new = pd.DataFrame({'TV': [data.TV.min(), data.TV.max()]})\n",
    "X_new.head()\n",
    "\n",
    "# make predictions for those x values and store them\n",
    "preds = lm.predict(X_new)\n",
    "preds\n"
   ]
  },
  {
   "cell_type": "code",
   "execution_count": null,
   "metadata": {
    "collapsed": true
   },
   "outputs": [],
   "source": [
    "# first, plot the observed data\n",
    "data.plot(kind='scatter', x='TV', y='Sales')\n",
    "\n",
    "# then, plot the least squares line\n",
    "plt.plot(X_new, preds, c='red', linewidth=2)\n",
    "\n"
   ]
  },
  {
   "cell_type": "markdown",
   "metadata": {},
   "source": [
    "## Classification example\n",
    "\n",
    "predicting groups rather than numbers"
   ]
  },
  {
   "cell_type": "code",
   "execution_count": null,
   "metadata": {
    "collapsed": true
   },
   "outputs": [],
   "source": []
  },
  {
   "cell_type": "markdown",
   "metadata": {},
   "source": [
    "# Two types of machine learning"
   ]
  },
  {
   "cell_type": "markdown",
   "metadata": {},
   "source": [
    "## Supervised learning\n",
    "\n",
    "When you know the outcome, e.g. group or price\n",
    "\n",
    "E.g. Sales or flower type"
   ]
  },
  {
   "cell_type": "markdown",
   "metadata": {},
   "source": [
    "## Unsurpervised learning\n",
    "When you don't know the outcome\n",
    "\n",
    "E.g. PCA"
   ]
  },
  {
   "cell_type": "markdown",
   "metadata": {},
   "source": [
    "# Scikit-learn "
   ]
  },
  {
   "cell_type": "markdown",
   "metadata": {},
   "source": [
    "scikit-learn (sk) is a python toolbox for machine learning. It has large range of different algorithms, preprocessing tools, scoring metrix etc.\n",
    "\n",
    "Every sk algorithm uses the same structure:\n",
    "    \n",
    "+ **X** the data to learn from. It is a two dimensional numpy array.\n",
    "+ **y** the data to be predicted. It is a one dimensional numpy array.\n",
    " \n",
    "## X the feature matrix\n",
    "\n",
    "Features can be anything relevant to make the prediction of *y*, e.g.:\n",
    "    \n",
    "- predicting the prince of a house. Features could be: number of rooms, square meters, location etc.\n",
    "- predicting condition of M/EEG data: the sensor data, source reconstruction data etc.\n",
    "\n",
    "For scikit-learn the **X** is always a NxM matrix, where N is the number of observations (e.g. epochs, subjects) and M is the features (e.g. time series).\n",
    "\n",
    "The **y** is a one dimensional array coding the type of observations, for classification which group the observation is, for regression the number to be predicted (e.g. house price). \n",
    "\n",
    "**OBS** for scikit-learn **y** is always an integer array, groups should hence be coded as integers, e.g. 0, 1 etc.\n",
    "\n",
    "\n"
   ]
  },
  {
   "cell_type": "markdown",
   "metadata": {},
   "source": [
    "# Additional resources\n",
    "\n",
    "- [scikit-learn introduction tutorial (vidoe)](https://www.youtube.com/watch?v=L7R4HUQ-eQ0)\n",
    "    - See [scikit-learn.org](scikit-learn.org) for documentation adn examples\n",
    "\n",
    "\n",
    "- The __bible__ of mvpa (Math heavy!!!)\n",
    "    - Hastie, T., Tibshirani, R., Friedman, J., Hastie, T., Friedman, J., & Tibshirani, R. (2009). The elements of statistical learning (Vol. 2): Springer.      \n",
    "    - Free at: statweb.stanford.edu/~tibs/ElemStatLearn/\n",
    "\n",
    "\n",
    "- A very good but not as math heavy (dumbed downed version of the elements of...)\n",
    "    - James, G., Witten, D., Hastie, T., & Tibshirani, R. (2013). An Introduction to Statistical Learning (Vol. 103). New York, NY: Springer New York.\n",
    "    - Free at: http://www-bcf.usc.edu/~gareth/ISL/\n",
    "    - It uses R and there is a online course by Hastie & Tibshirani that uses the book as the main textbook.\n",
    "\n",
    "\n",
    "- Discussion of traditional statistics vs mvpa approaches\n",
    "    - Breiman, L. (2001). Statistical Modeling: The Two Cultures (with comments and a rejoinder by the author). 199-231. doi:10.1214/ss/1009213726\n",
    "- Guidelines for cross-validation\n",
    "    - Varoquaux, G., Raamana, P. R., Engemann, D. A., Hoyos-Idrobo, A., Schwartz, Y., & Thirion, B. Assessing and tuning brain decoders: Cross-validation, caveats, and guidelines. NeuroImage. doi:http://dx.doi.org/10.1016/j.neuroimage.2016.10.038\n"
   ]
  },
  {
   "cell_type": "code",
   "execution_count": null,
   "metadata": {
    "collapsed": true
   },
   "outputs": [],
   "source": []
  },
  {
   "cell_type": "code",
   "execution_count": null,
   "metadata": {
    "collapsed": true
   },
   "outputs": [],
   "source": []
  },
  {
   "cell_type": "code",
   "execution_count": null,
   "metadata": {
    "collapsed": true
   },
   "outputs": [],
   "source": []
  },
  {
   "cell_type": "code",
   "execution_count": null,
   "metadata": {
    "collapsed": true
   },
   "outputs": [],
   "source": []
  },
  {
   "cell_type": "code",
   "execution_count": null,
   "metadata": {
    "collapsed": true
   },
   "outputs": [],
   "source": []
  }
 ],
 "metadata": {
  "anaconda-cloud": {},
  "kernelspec": {
   "display_name": "Python 3",
   "language": "python",
   "name": "python3"
  },
  "language_info": {
   "codemirror_mode": {
    "name": "ipython",
    "version": 3
   },
   "file_extension": ".py",
   "mimetype": "text/x-python",
   "name": "python",
   "nbconvert_exporter": "python",
   "pygments_lexer": "ipython3",
   "version": "3.5.2"
  }
 },
 "nbformat": 4,
 "nbformat_minor": 2
}
